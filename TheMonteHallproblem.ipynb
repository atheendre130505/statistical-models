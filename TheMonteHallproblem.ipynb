{
  "nbformat": 4,
  "nbformat_minor": 0,
  "metadata": {
    "colab": {
      "provenance": []
    },
    "kernelspec": {
      "name": "python3",
      "display_name": "Python 3"
    },
    "language_info": {
      "name": "python"
    }
  },
  "cells": [
    {
      "cell_type": "code",
      "execution_count": 63,
      "metadata": {
        "id": "fm6YIYKqrZzG"
      },
      "outputs": [],
      "source": [
        "import secrets\n",
        "def gameofdoors():\n",
        "  doors=[]\n",
        "\n",
        "  random=secrets.choice([0,1,2])\n",
        "  for i in range(3):\n",
        "    if random!=i:\n",
        "      doors.append(False)\n",
        "    else:\n",
        "      doors.append(True)\n",
        "  return doors\n"
      ]
    },
    {
      "cell_type": "code",
      "source": [
        "def chooseadoor():\n",
        "  choice=secrets.choice([0,1,2])\n",
        "  return choice\n",
        "\n"
      ],
      "metadata": {
        "id": "Py9-qmoxsqLl"
      },
      "execution_count": 64,
      "outputs": []
    },
    {
      "cell_type": "code",
      "source": [
        "def showadoor(res,doors):\n",
        "  for i in range(3):\n",
        "    if i!=res and doors[i]==False:\n",
        "      return i"
      ],
      "metadata": {
        "id": "TBJ-JMhhuLUJ"
      },
      "execution_count": 65,
      "outputs": []
    },
    {
      "cell_type": "code",
      "source": [
        "def sticktocurrent(res,doors):\n",
        "  if doors[res]==True:\n",
        "      return 1\n",
        "  else:\n",
        "      return 0\n",
        "\n"
      ],
      "metadata": {
        "id": "KF34FgzEuL02"
      },
      "execution_count": 66,
      "outputs": []
    },
    {
      "cell_type": "code",
      "source": [
        "def changetodifferent(res,res2,doors):\n",
        "  for i in range(3):\n",
        "    if i!=res and i!=res2:\n",
        "      if doors[i]==True:\n",
        "        return 1\n",
        "      else:\n",
        "        return 0\n",
        "\n"
      ],
      "metadata": {
        "id": "-SUBynRoxiax"
      },
      "execution_count": 67,
      "outputs": []
    },
    {
      "cell_type": "code",
      "source": [
        "def main():\n",
        "    sumstick = 0\n",
        "    sumchange = 0\n",
        "    i=0\n",
        "    for i in range(10000):\n",
        "        doors = gameofdoors()\n",
        "        res = chooseadoor()\n",
        "        res2 = showadoor(res, doors)\n",
        "        sumstick += sticktocurrent(res, doors)\n",
        "        sumchange += changetodifferent(res, res2, doors)\n",
        "    print(sumstick)\n",
        "    print(sumchange)\n",
        "main()\n"
      ],
      "metadata": {
        "colab": {
          "base_uri": "https://localhost:8080/"
        },
        "id": "Spc4Pdpjx8-L",
        "outputId": "0f7cdc5f-edd9-463a-d99c-d559a17e3b1c"
      },
      "execution_count": 68,
      "outputs": [
        {
          "output_type": "stream",
          "name": "stdout",
          "text": [
            "3263\n",
            "6737\n"
          ]
        }
      ]
    }
  ]
}